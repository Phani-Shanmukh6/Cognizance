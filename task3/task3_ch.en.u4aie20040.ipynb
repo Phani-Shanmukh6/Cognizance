{
 "cells": [
  {
   "cell_type": "code",
   "execution_count": 1,
   "id": "6fbf07d2",
   "metadata": {},
   "outputs": [],
   "source": [
    "import numpy as np"
   ]
  },
  {
   "cell_type": "markdown",
   "id": "9234a568",
   "metadata": {},
   "source": [
    "Question 1"
   ]
  },
  {
   "cell_type": "code",
   "execution_count": 14,
   "id": "8dbf21cf",
   "metadata": {},
   "outputs": [
    {
     "name": "stdout",
     "output_type": "stream",
     "text": [
      "Initial array: [10 11 12 13 14]\n",
      "Final array: [10.  0.  0.  0.  0.  0. 11.  0.  0.  0.  0.  0. 12.  0.  0.  0.  0.  0.\n",
      " 13.  0.  0.  0.  0.  0. 14.]\n"
     ]
    }
   ],
   "source": [
    "#Q1\n",
    "A = np.array([10,11,12,13,14])\n",
    "print(\"Initial array:\",A)\n",
    "D = 5\n",
    "new_A = np.zeros(len(A) + (len(A)-1)*(D))\n",
    "new_A[::p+1] = A\n",
    "print(\"Final array:\",new_A)"
   ]
  },
  {
   "cell_type": "markdown",
   "id": "0792eadf",
   "metadata": {},
   "source": [
    "Question 2"
   ]
  },
  {
   "cell_type": "code",
   "execution_count": 15,
   "id": "0daabab7",
   "metadata": {},
   "outputs": [
    {
     "name": "stdout",
     "output_type": "stream",
     "text": [
      "Array 1: [ 4 55 30  5 98 19  6 61 37 83]\n",
      "Array 2: [86 19  7 66 54 90 74 31 75 80]\n",
      "Is the arrays are equal or not? : False\n"
     ]
    }
   ],
   "source": [
    "#Q2\n",
    "A1=np.random.randint(0,100,10)\n",
    "print(\"Array 1:\",A1)\n",
    "A2=np.random.randint(0,100,10)\n",
    "print(\"Array 2:\",A2)\n",
    "equal=np.allclose(A1,A2)\n",
    "print(\"Is the arrays are equal or not? :\",equal)"
   ]
  },
  {
   "cell_type": "markdown",
   "id": "00543c28",
   "metadata": {},
   "source": [
    "Question 3(Here nan means not a number )"
   ]
  },
  {
   "cell_type": "code",
   "execution_count": 16,
   "id": "e5d03a63",
   "metadata": {},
   "outputs": [
    {
     "name": "stdout",
     "output_type": "stream",
     "text": [
      "nan\n",
      "True\n",
      "False\n",
      "nan\n",
      "False\n"
     ]
    }
   ],
   "source": [
    "#Q3\n",
    "print(0 * np.nan)\n",
    "print(np.nan != np.nan)\n",
    "print(np.inf > np.nan)\n",
    "print(np.nan - np.nan)\n",
    "print(0.3 == 3 * 0.1) "
   ]
  },
  {
   "cell_type": "markdown",
   "id": "79c76524",
   "metadata": {},
   "source": [
    "Question 4"
   ]
  },
  {
   "cell_type": "code",
   "execution_count": 17,
   "id": "501edbb9",
   "metadata": {},
   "outputs": [],
   "source": [
    "import pandas as pd"
   ]
  },
  {
   "cell_type": "code",
   "execution_count": 38,
   "id": "864e14ff",
   "metadata": {},
   "outputs": [
    {
     "name": "stdout",
     "output_type": "stream",
     "text": [
      "0         amrita\n",
      "1         school\n",
      "2             of\n",
      "3    engineering\n",
      "4        chennai\n",
      "5         campus\n",
      "dtype: object\n",
      "the requires new series is :\n",
      "0         Amrita\n",
      "1         School\n",
      "2             Of\n",
      "3    Engineering\n",
      "4        Chennai\n",
      "5         Campus\n",
      "dtype: object\n",
      "the obtained new series after combining  is : Amrita School Of Engineering Chennai Campus\n"
     ]
    }
   ],
   "source": [
    "#Q4\n",
    "S=pd.Series(['amrita', 'school', 'of', 'engineering' ,'chennai' , 'campus'])\n",
    "print(S)\n",
    "new_S = S.map(lambda x: x[0].upper() + x[1:-1]+x[-1] )\n",
    "print(\"the requires new series is :\")\n",
    "print(new_S)\n",
    "for i in range(1,len(new_S)):\n",
    "    new_S[0]=new_S[0]+' '+new_S[i]\n",
    "print(\"the obtained new series after combining  is :\",new_S[0])"
   ]
  },
  {
   "cell_type": "markdown",
   "id": "9863f93a",
   "metadata": {},
   "source": [
    "Question 5"
   ]
  },
  {
   "cell_type": "code",
   "execution_count": 42,
   "id": "1e686e84",
   "metadata": {},
   "outputs": [
    {
     "name": "stdout",
     "output_type": "stream",
     "text": [
      "array 1:\n",
      "[98 72 34 24  7 93 78 69]\n",
      "array 2:\n",
      "[0 2 9 2 3 6 4 4]\n",
      "The addition of two arrays is :\n",
      "[98 74 43 26 10 99 82 73]\n"
     ]
    }
   ],
   "source": [
    "#Q5 Addition of two arrays\n",
    "Arr1=np.random.randint(0,100,8)\n",
    "print(\"array 1:\")\n",
    "print(Arr1)\n",
    "Arr2=np.random.randint(0,10,8)\n",
    "print(\"array 2:\")\n",
    "print(Arr2)\n",
    "sum=np.add(Arr1,Arr2)\n",
    "print(\"The addition of two arrays is :\")\n",
    "print(sum)"
   ]
  },
  {
   "cell_type": "code",
   "execution_count": 45,
   "id": "7fc0e873",
   "metadata": {},
   "outputs": [
    {
     "name": "stdout",
     "output_type": "stream",
     "text": [
      "Matrix 1:\n",
      "[[362 757 484  95]\n",
      " [978 866 295 260]\n",
      " [515 552 760 404]\n",
      " [229 215 639 869]]\n",
      "Matrix 2:\n",
      "[[101 924 369 816]\n",
      " [812 212 662 666]\n",
      " [426 387 484 865]\n",
      " [889 451 818 480]]\n",
      "the multiplication of the above two matrices is :\n",
      "[[ 941885  725125  946678 1263814]\n",
      " [1158780 1318689 1289634 1754779]\n",
      " [1183155 1069208 1253771 1639192]\n",
      " [1242464  896388 1246949 1299909]]\n"
     ]
    }
   ],
   "source": [
    "#Q5 multiplication of two matrices\n",
    "M1=np.random.randint(0,1000,(4,4))\n",
    "print(\"Matrix 1:\")\n",
    "print(M1)\n",
    "M2=np.random.randint(0,1000,(4,4))\n",
    "print(\"Matrix 2:\")\n",
    "print(M2)\n",
    "mult=np.dot(M1,M2)\n",
    "print(\"the multiplication of the above two matrices is :\")\n",
    "print(mult)"
   ]
  },
  {
   "cell_type": "code",
   "execution_count": 47,
   "id": "8bbd56be",
   "metadata": {},
   "outputs": [
    {
     "name": "stdout",
     "output_type": "stream",
     "text": [
      "[[1. 0. 0. 0. 0. 0.]\n",
      " [0. 1. 0. 0. 0. 0.]\n",
      " [0. 0. 1. 0. 0. 0.]\n",
      " [0. 0. 0. 1. 0. 0.]\n",
      " [0. 0. 0. 0. 1. 0.]\n",
      " [0. 0. 0. 0. 0. 1.]]\n"
     ]
    }
   ],
   "source": [
    "#Q5 Identity matrix\n",
    "I_matrix=np.identity(6)\n",
    "print(I_matrix)"
   ]
  },
  {
   "cell_type": "code",
   "execution_count": null,
   "id": "d47be5b5",
   "metadata": {},
   "outputs": [],
   "source": []
  }
 ],
 "metadata": {
  "kernelspec": {
   "display_name": "Python 3 (ipykernel)",
   "language": "python",
   "name": "python3"
  },
  "language_info": {
   "codemirror_mode": {
    "name": "ipython",
    "version": 3
   },
   "file_extension": ".py",
   "mimetype": "text/x-python",
   "name": "python",
   "nbconvert_exporter": "python",
   "pygments_lexer": "ipython3",
   "version": "3.9.7"
  }
 },
 "nbformat": 4,
 "nbformat_minor": 5
}
