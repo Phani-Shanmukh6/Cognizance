{
 "cells": [
  {
   "cell_type": "markdown",
   "id": "ab8b91cf",
   "metadata": {},
   "source": [
    "Question 3\n",
    "\n",
    "about.txt: Python has tools for almost every aspect of scientific computing. The Bank of America uses Python to crunch its financial data and Facebook looks upon the Python library Pandas for its data analysis. While there are many libraries available to perform data analysis in Python, here are a few: NumPy, SciPy, Pandas and Matplotlib."
   ]
  },
  {
   "cell_type": "code",
   "execution_count": 12,
   "id": "f1ff1977",
   "metadata": {},
   "outputs": [
    {
     "name": "stdout",
     "output_type": "stream",
     "text": [
      "most frequently used word with atleast 6 letters is: python\n"
     ]
    }
   ],
   "source": [
    "word=\"\"\n",
    "max_count=0\n",
    "count=0\n",
    "words=[]\n",
    "df=open(\"about.txt\",\"r\")\n",
    "for line in df:\n",
    "    stri=line.lower().replace(',','').replace('.','').split(\" \")\n",
    "    for s in stri:\n",
    "        words.append(s)\n",
    "for i in range(0,len(words)):\n",
    "    count=1\n",
    "    for j in range(i+1,len(words)):\n",
    "        if(words[i]==words[j]):\n",
    "            count=count+1\n",
    "    if(count>max_count):\n",
    "        max_count=count\n",
    "        w=words[i]\n",
    "if(len(w)>=6):\n",
    "    print(\"most frequently used word with atleast 6 letters is:\",w)\n",
    "else:\n",
    "    print(\"No word having at least 6 letters is repeated\")\n",
    "df.close()\n",
    "        "
   ]
  },
  {
   "cell_type": "code",
   "execution_count": null,
   "id": "6a95e6fa",
   "metadata": {},
   "outputs": [],
   "source": []
  }
 ],
 "metadata": {
  "kernelspec": {
   "display_name": "Python 3 (ipykernel)",
   "language": "python",
   "name": "python3"
  },
  "language_info": {
   "codemirror_mode": {
    "name": "ipython",
    "version": 3
   },
   "file_extension": ".py",
   "mimetype": "text/x-python",
   "name": "python",
   "nbconvert_exporter": "python",
   "pygments_lexer": "ipython3",
   "version": "3.9.7"
  }
 },
 "nbformat": 4,
 "nbformat_minor": 5
}
